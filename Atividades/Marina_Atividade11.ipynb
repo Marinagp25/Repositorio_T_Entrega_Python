{
 "cells": [
  {
   "cell_type": "code",
   "execution_count": null,
   "id": "a493157b",
   "metadata": {},
   "outputs": [
    {
     "name": "stdout",
     "output_type": "stream",
     "text": [
      "Indicadores Hashtag&Drink\n",
      "De acordo com informações, acrescente para efetuar os calculos\n"
     ]
    }
   ],
   "source": [
    "print(\"Indicadores Hashtag&Drink\")\n",
    "\n",
    "print(\"De acordo com informações, acrescente para efetuar os calculos\")\n",
    "qtd_vendaCoca = int(input(\"Qtd de vendas da Coca: \"))\n",
    "qtd_vendaPepsi = int(input(\"Qtd de vendas da Pepsi: \"))\n",
    "un_coca = float(input(\"Preço da Coca: \"))\n",
    "un_pepsi= float(input(\"Preço da Pepsi: \"))\n",
    "custo_loja = float(input(\"Sendo custo da loja: \"))\n",
    "print(\"\")\n",
    "print(\"Loja\")\n",
    "print(\"\")\n",
    "total_Pepsi = qtd_vendaPepsi * un_pepsi\n",
    "print(\"O faturamento de Pepsi da Loja: \", total_Pepsi)\n",
    "print(\"\")\n",
    "total_Coca = qtd_vendaCoca * un_coca\n",
    "print(\"O faturamento de Coca da Loja: \", total_Coca)\n",
    "\n",
    "resto_vender = float(input(\"No mês tem vender tanto Coca quanto Pepsi junto para ter seu lucro de: \"))\n",
    "resto_lucro = resto_vender * (un_coca + un_pepsi)\n",
    "print(\"No dia mais o que tem a vender ficará: \", resto_lucro)\n",
    "\n",
    "lucro = (total_Pepsi + total_Coca) + resto_lucro\n",
    "print(\"O lucro de vendas no mês: \", lucro)\n",
    "\n",
    "lucrobruto = lucro - custo_loja\n",
    "print(\"Lucro da Loja é: \", lucrobruto)\n",
    "\n",
    "faturamento =  custo_loja - lucrobruto \n",
    "margem = (lucro - faturamento)/100\n",
    "print(\"A margem é de: \", margem)\n"
   ]
  },
  {
   "cell_type": "code",
   "execution_count": 7,
   "id": "b4eea448",
   "metadata": {},
   "outputs": [
    {
     "name": "stdout",
     "output_type": "stream",
     "text": [
      "Catálogo Hashtag&Drinks\n",
      "Sendo que Bebidas Alcoolicas iniciam com -BAC- e Não Alcoolicas -BEB-\n",
      "COD. COCA: \n",
      "BEB1300543\n",
      "COD. PEPSI: \n",
      "BEB1300545\n",
      "COD. VINHO PRIMITIVO: \n",
      "BAC1546001\n",
      "COD. VODKA SMIRNOFF: \n",
      "BAC17675002\n",
      "\n",
      "Qual o codigo da bebida? Se for Alcoolica é TRUE caso não FALSEBEB1300543\n",
      "BEB1300543\n",
      "Bebida nao alcoolica\n"
     ]
    }
   ],
   "source": [
    "print(\"Catálogo Hashtag&Drinks\")\n",
    "\n",
    "print(\"Sendo que Bebidas Alcoolicas iniciam com -BAC- e Não Alcoolicas -BEB-\")\n",
    "\n",
    "print(\"COD. COCA: \")\n",
    "coca = print(\"BEB1300543\")\n",
    "\n",
    "print(\"COD. PEPSI: \")\n",
    "pepsi = print(\"BEB1300545\")\n",
    "\n",
    "print(\"COD. VINHO PRIMITIVO: \")\n",
    "VinhoPL = print(\"BAC1546001\")\n",
    "\n",
    "print(\"COD. VODKA SMIRNOFF: \")\n",
    "VodSmi = print(\"BAC17675002\")\n",
    "\n",
    "\n",
    "print(\"\")\n",
    "\n",
    "id = input(\"Qual o codigo da bebida? Se for Alcoolica é TRUE caso não FALSE\")\n",
    "print(id)\n",
    "if id == 'BEB1300543':\n",
    "     print(\"Bebida nao alcoolica\")\n",
    "elif id == 'BEB1300545':\n",
    "     print(\"Bebida nao alcoolica\")\n",
    "elif id == 'BAC1546001':\n",
    "     print(\"Bebida alcoolica\")\n",
    "elif id == 'BAC17675002':\n",
    "     print(\"Bebida alcoolica\")\n",
    "else:\n",
    "    print(\"Invalido\")\n",
    "    \n",
    "    print(\"Sendo assim\")\n"
   ]
  },
  {
   "cell_type": "code",
   "execution_count": null,
   "id": "07af09b5",
   "metadata": {},
   "outputs": [],
   "source": []
  },
  {
   "cell_type": "code",
   "execution_count": null,
   "id": "3bdd226d",
   "metadata": {},
   "outputs": [],
   "source": []
  }
 ],
 "metadata": {
  "kernelspec": {
   "display_name": "Python 3 (ipykernel)",
   "language": "python",
   "name": "python3"
  },
  "language_info": {
   "codemirror_mode": {
    "name": "ipython",
    "version": 3
   },
   "file_extension": ".py",
   "mimetype": "text/x-python",
   "name": "python",
   "nbconvert_exporter": "python",
   "pygments_lexer": "ipython3",
   "version": "3.9.7"
  }
 },
 "nbformat": 4,
 "nbformat_minor": 5
}
